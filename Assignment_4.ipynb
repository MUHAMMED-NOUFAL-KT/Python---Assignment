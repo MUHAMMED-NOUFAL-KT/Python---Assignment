{
  "nbformat": 4,
  "nbformat_minor": 0,
  "metadata": {
    "colab": {
      "provenance": [],
      "authorship_tag": "ABX9TyON10cbRn7+CqOUJs/RhB/f",
      "include_colab_link": true
    },
    "kernelspec": {
      "name": "python3",
      "display_name": "Python 3"
    },
    "language_info": {
      "name": "python"
    }
  },
  "cells": [
    {
      "cell_type": "markdown",
      "metadata": {
        "id": "view-in-github",
        "colab_type": "text"
      },
      "source": [
        "<a href=\"https://colab.research.google.com/github/MUHAMMED-NOUFAL-KT/Python---Assignment/blob/main/Assignment_4.ipynb\" target=\"_parent\"><img src=\"https://colab.research.google.com/assets/colab-badge.svg\" alt=\"Open In Colab\"/></a>"
      ]
    },
    {
      "cell_type": "markdown",
      "source": [
        "### Question_1"
      ],
      "metadata": {
        "id": "nL7LvCj-JChY"
      }
    },
    {
      "cell_type": "markdown",
      "source": [
        "Write a code example using len() to find the length of a list.Python-Functions What does the len() function do in Python?"
      ],
      "metadata": {
        "id": "YodLKAIVRBaS"
      }
    },
    {
      "cell_type": "code",
      "source": [
        "List = [10, 20, 30, 40, 50]\n",
        "length = len(List)\n",
        "print(\"The length of the list is:\", length)"
      ],
      "metadata": {
        "colab": {
          "base_uri": "https://localhost:8080/"
        },
        "id": "P2WBi_JgRHJy",
        "outputId": "c5d9a938-4324-49d0-ae07-c9982f2d4aad"
      },
      "execution_count": 4,
      "outputs": [
        {
          "output_type": "stream",
          "name": "stdout",
          "text": [
            "The length of the list is: 5\n"
          ]
        }
      ]
    },
    {
      "cell_type": "markdown",
      "source": [
        "\n",
        "The len() function in Python is used to determine the number of elements in an iterable (such as a list, string, tuple, dictionary, or set)."
      ],
      "metadata": {
        "id": "CXy5w0QXHxDR"
      }
    },
    {
      "cell_type": "markdown",
      "source": [
        "### Question _2"
      ],
      "metadata": {
        "id": "F1Emf4YDI7wV"
      }
    },
    {
      "cell_type": "markdown",
      "source": [
        "Write a Python function greet(name) that takes a person's name as input and prints \"Hello, [name]!\"."
      ],
      "metadata": {
        "id": "cy5JOQMLReS7"
      }
    },
    {
      "cell_type": "code",
      "source": [
        "name = \"noufal\"\n",
        "def greet(name):\n",
        "  print(\"Hello, \" + name + \"!\")\n",
        "greet(\"Noufal\")"
      ],
      "metadata": {
        "colab": {
          "base_uri": "https://localhost:8080/"
        },
        "id": "QQaJDRlZRlA6",
        "outputId": "5936374c-99d7-4cc6-d34e-a433a5cb2acd"
      },
      "execution_count": 40,
      "outputs": [
        {
          "output_type": "stream",
          "name": "stdout",
          "text": [
            "Hello, Noufal!\n"
          ]
        }
      ]
    },
    {
      "cell_type": "markdown",
      "source": [
        "### Question_3"
      ],
      "metadata": {
        "id": "85Cz8EWLJSH4"
      }
    },
    {
      "cell_type": "markdown",
      "source": [
        "Write a Python function find_maximum(numbers) that takes a list of integers and returns the maximum value without using the built-in max() function."
      ],
      "metadata": {
        "id": "2CdWugIoTC8k"
      }
    },
    {
      "cell_type": "code",
      "source": [
        "def find_maximum(numbers):\n",
        "    max_value = numbers[0]\n",
        "    for num in numbers:\n",
        "        if num > max_value:\n",
        "            max_value = num\n",
        "    return max_value\n",
        "\n",
        "numbers = [3, 7, 2, 9, 5]\n",
        "print(\"Maximum value:\", find_maximum(numbers))"
      ],
      "metadata": {
        "colab": {
          "base_uri": "https://localhost:8080/"
        },
        "id": "uDAH4ejct1Us",
        "outputId": "aa626663-8e21-4b12-d450-0cebfc05edd2"
      },
      "execution_count": 47,
      "outputs": [
        {
          "output_type": "stream",
          "name": "stdout",
          "text": [
            "Maximum value: 9\n"
          ]
        }
      ]
    },
    {
      "cell_type": "markdown",
      "source": [
        "### Question_4"
      ],
      "metadata": {
        "id": "GZCldG8IJeOY"
      }
    },
    {
      "cell_type": "markdown",
      "source": [
        "Explain the difference between local and global variables in a Python function."
      ],
      "metadata": {
        "id": "bfMWriXkJ10a"
      }
    },
    {
      "cell_type": "markdown",
      "source": [
        "A global variable is declared outside any function and is accessible throughout the program.\n",
        "A local variable is declared inside a function and only exists within that function."
      ],
      "metadata": {
        "id": "Dij0KpCrH_BJ"
      }
    },
    {
      "cell_type": "markdown",
      "source": [
        "Explain the difference between local and global variables in a Python function."
      ],
      "metadata": {
        "id": "u4-rQZL6KHla"
      }
    },
    {
      "cell_type": "code",
      "source": [
        "value = 50\n",
        "\n",
        "def my_function():\n",
        "\n",
        "    value = 75\n",
        "    print(\"Inside the function, local value:\", value)\n",
        "\n",
        "my_function()\n",
        "\n",
        "print(\"Outside the function, global value:\", value)"
      ],
      "metadata": {
        "colab": {
          "base_uri": "https://localhost:8080/"
        },
        "id": "Y4BOe_s3FqKa",
        "outputId": "31b2f6ca-a3ca-40ac-ddd4-6257c0be768c"
      },
      "execution_count": 9,
      "outputs": [
        {
          "output_type": "stream",
          "name": "stdout",
          "text": [
            "Inside the function, local value: 75\n",
            "Outside the function, global value: 50\n"
          ]
        }
      ]
    },
    {
      "cell_type": "markdown",
      "source": [
        "### Qusetion_5"
      ],
      "metadata": {
        "id": "nA_UvrAPJlsw"
      }
    },
    {
      "cell_type": "markdown",
      "source": [
        "Create a function calculate_area(length, width=5) that calculates the area of a rectangle. If only the length is provided, the function should assume the width is 5. Show how the function behaves when called with and without the width argument."
      ],
      "metadata": {
        "id": "kL5IF6h5G2Ku"
      }
    },
    {
      "cell_type": "code",
      "source": [
        "def calculate_area(length, width=5):\n",
        "    \"\"\"Calculate the area of a rectangle.\"\"\"\n",
        "    return length * width\n",
        "area_1 = calculate_area(10, 7)\n",
        "print(\"Area when both length and width are provided:\", area_1)\n",
        "\n",
        "area_2 = calculate_area(10)\n",
        "print(\"Area when only length is provided:\", area_2)"
      ],
      "metadata": {
        "colab": {
          "base_uri": "https://localhost:8080/"
        },
        "id": "2Ow3LIF0G_cp",
        "outputId": "74bd39cc-36b1-4048-a20a-eb49348f6e89"
      },
      "execution_count": 10,
      "outputs": [
        {
          "output_type": "stream",
          "name": "stdout",
          "text": [
            "Area when both length and width are provided: 70\n",
            "Area when only length is provided: 50\n"
          ]
        }
      ]
    }
  ]
}