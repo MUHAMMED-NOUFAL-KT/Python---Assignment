{
  "nbformat": 4,
  "nbformat_minor": 0,
  "metadata": {
    "colab": {
      "provenance": []
    },
    "kernelspec": {
      "name": "python3",
      "display_name": "Python 3"
    },
    "language_info": {
      "name": "python"
    }
  },
  "cells": [
    {
      "cell_type": "markdown",
      "source": [
        "Build a program to manage a university's course catalog."
      ],
      "metadata": {
        "id": "LjWpP3yyjpv6"
      }
    },
    {
      "cell_type": "code",
      "execution_count": 2,
      "metadata": {
        "id": "h3jEHdUDiORG"
      },
      "outputs": [],
      "source": [
        "class Course:\n",
        "    def __init__(self, course_code, course_name, credit_hours):\n",
        "        self.course_code = course_code\n",
        "        self.course_name = course_name\n",
        "        self.credit_hours = credit_hours\n",
        "\n",
        "    def display_info(self):\n",
        "        return f\"Course Code: {self.course_code}, Course Name: {self.course_name}, Credit Hours: {self.credit_hours}\"\n",
        "\n",
        "\n",
        "class CoreCourse(Course):\n",
        "    def __init__(self, course_code, course_name, credit_hours, required_for_major):\n",
        "        super().__init__(course_code, course_name, credit_hours)\n",
        "        self.required_for_major = required_for_major\n",
        "\n",
        "    def display_info(self):\n",
        "        core_status = \"Required\" if self.required_for_major else \"Optional\"\n",
        "        return super().display_info() + f\", Required for Major: {core_status}\"\n",
        "\n",
        "\n",
        "class ElectiveCourse(Course):\n",
        "    def __init__(self, course_code, course_name, credit_hours, elective_type):\n",
        "        super().__init__(course_code, course_name, credit_hours)\n",
        "        self.elective_type = elective_type\n",
        "\n",
        "    def display_info(self):\n",
        "        return super().display_info() + f\", Elective Type: {self.elective_type}\"\n"
      ]
    },
    {
      "cell_type": "code",
      "source": [
        "core = CoreCourse(\"CS101\", \"Introduction to Computer Science\", 3, True)\n",
        "elective = ElectiveCourse(\"HIST201\", \"World History\", 3, \"liberal arts\")"
      ],
      "metadata": {
        "id": "fN0znTySioDM"
      },
      "execution_count": 4,
      "outputs": []
    },
    {
      "cell_type": "code",
      "source": [
        "print(core.display_info())\n",
        "print(elective.display_info())\n"
      ],
      "metadata": {
        "colab": {
          "base_uri": "https://localhost:8080/"
        },
        "id": "R48hV2mqiteK",
        "outputId": "46196c29-45d3-46b4-e581-660785f0d376"
      },
      "execution_count": 5,
      "outputs": [
        {
          "output_type": "stream",
          "name": "stdout",
          "text": [
            "Course Code: CS101, Course Name: Introduction to Computer Science, Credit Hours: 3, Required for Major: Required\n",
            "Course Code: HIST201, Course Name: World History, Credit Hours: 3, Elective Type: liberal arts\n"
          ]
        }
      ]
    },
    {
      "cell_type": "markdown",
      "source": [
        "Create a Python module named employee that contains a class Employee with attributes name, salary and methods get_name() and get_salary(). Write a program to use this module to create an object of the Employee class and display its name and salary.\n"
      ],
      "metadata": {
        "id": "mv6bjk2Pj0eR"
      }
    },
    {
      "cell_type": "code",
      "source": [
        "\n",
        "# employee.py\n",
        "\n",
        "with open(\"employee.py\", \"w\") as f:\n",
        "    f.write('''\n",
        "class Employee:\n",
        "    def __init__(self, name, salary):\n",
        "        self.__name = name\n",
        "        self.__salary = salary\n",
        "\n",
        "    def get_name(self):\n",
        "        return self.__name\n",
        "\n",
        "    def get_salary(self):\n",
        "        return self.__salary\n",
        "''')"
      ],
      "metadata": {
        "colab": {
          "base_uri": "https://localhost:8080/"
        },
        "id": "DoM83-_Uj51S",
        "outputId": "9d506437-e5c2-410b-f386-c1932406dddb"
      },
      "execution_count": 16,
      "outputs": [
        {
          "output_type": "stream",
          "name": "stdout",
          "text": [
            "Requirement already satisfied: libarchive in /usr/local/lib/python3.11/dist-packages (0.4.7)\n",
            "Requirement already satisfied: nose in /usr/local/lib/python3.11/dist-packages (from libarchive) (1.3.7)\n"
          ]
        }
      ]
    },
    {
      "cell_type": "code",
      "source": [
        "import employee\n",
        "\n",
        "# Create an Employee object\n",
        "emp = employee.Employee(\"NOUFAL\", 50000)\n",
        "\n",
        "print(\"Employee Name:\", emp.get_name())\n",
        "print(\"Employee Salary:\", emp.get_salary())\n"
      ],
      "metadata": {
        "colab": {
          "base_uri": "https://localhost:8080/"
        },
        "id": "E7xW9l5PnV1o",
        "outputId": "972e2f52-d844-46ad-d59b-03440e3436ed"
      },
      "execution_count": 18,
      "outputs": [
        {
          "output_type": "stream",
          "name": "stdout",
          "text": [
            "Employee Name: NOUFAL\n",
            "Employee Salary: 50000\n"
          ]
        }
      ]
    }
  ]
}