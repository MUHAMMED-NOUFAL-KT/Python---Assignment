{
  "nbformat": 4,
  "nbformat_minor": 0,
  "metadata": {
    "colab": {
      "provenance": []
    },
    "kernelspec": {
      "name": "python3",
      "display_name": "Python 3"
    },
    "language_info": {
      "name": "python"
    }
  },
  "cells": [
    {
      "cell_type": "markdown",
      "source": [
        "# ##List"
      ],
      "metadata": {
        "id": "e-Cj-V99DVHg"
      }
    },
    {
      "cell_type": "markdown",
      "source": [
        "Q1. Create a list of 5 random numbers and print the list."
      ],
      "metadata": {
        "id": "ufS7AzFPDZ3S"
      }
    },
    {
      "cell_type": "code",
      "source": [
        "import random"
      ],
      "metadata": {
        "id": "kVumaRysIFna"
      },
      "execution_count": 3,
      "outputs": []
    },
    {
      "cell_type": "code",
      "source": [
        "random_numbers = [random.randint(1, 100) for _ in range(5)]\n",
        "print(random_numbers)"
      ],
      "metadata": {
        "colab": {
          "base_uri": "https://localhost:8080/"
        },
        "id": "XY-t_vyPIJow",
        "outputId": "c535e0ab-c326-49d1-c69b-b8628ce94374"
      },
      "execution_count": 18,
      "outputs": [
        {
          "output_type": "stream",
          "name": "stdout",
          "text": [
            "[15, 65, 8, 97, 50]\n"
          ]
        }
      ]
    },
    {
      "cell_type": "markdown",
      "source": [
        "Q2. Insert 3 new values to the list and print the updated list.\n",
        "\n",
        "\n",
        "\n"
      ],
      "metadata": {
        "id": "49vP9WjiiqIp"
      }
    },
    {
      "cell_type": "code",
      "source": [
        "import random\n",
        "random_numbers = [random.randint(1, 100) for _ in range(5)]\n",
        "print(random_numbers)\n",
        "\n",
        "New_values =[75,50,25]\n",
        "random_numbers.extend(New_values)\n",
        "print(random_numbers)\n",
        "\n",
        "\n"
      ],
      "metadata": {
        "colab": {
          "base_uri": "https://localhost:8080/"
        },
        "id": "Fs-D7vUQKLOP",
        "outputId": "c61e1592-4a47-4b04-c1ed-6db70fd35d06"
      },
      "execution_count": 6,
      "outputs": [
        {
          "output_type": "stream",
          "name": "stdout",
          "text": [
            "[9, 19, 76, 76, 24]\n",
            "[9, 19, 76, 76, 24, 75, 50, 25]\n"
          ]
        }
      ]
    },
    {
      "cell_type": "markdown",
      "source": [
        "Q3. Try to use a for loop to print each element in the list.\n"
      ],
      "metadata": {
        "id": "u0IjuUccjByL"
      }
    },
    {
      "cell_type": "code",
      "source": [
        "print()\n",
        "for number in random_numbers:\n",
        "    print(number)"
      ],
      "metadata": {
        "colab": {
          "base_uri": "https://localhost:8080/"
        },
        "id": "ZAEF_2R8jKFD",
        "outputId": "c457ca66-7571-4307-918e-ac8742a46295"
      },
      "execution_count": 10,
      "outputs": [
        {
          "output_type": "stream",
          "name": "stdout",
          "text": [
            "\n",
            "9\n",
            "19\n",
            "76\n",
            "76\n",
            "24\n",
            "75\n",
            "50\n",
            "25\n"
          ]
        }
      ]
    },
    {
      "cell_type": "markdown",
      "source": [
        "# ## Dictionary\n"
      ],
      "metadata": {
        "id": "w2nw5Rv0kQDb"
      }
    },
    {
      "cell_type": "markdown",
      "source": [
        "Q1. Create a dictionary with keys 'name', 'age', and 'address' and values 'John', 25, and 'New York' respectively.\n"
      ],
      "metadata": {
        "id": "PnkFp5vDkWn7"
      }
    },
    {
      "cell_type": "code",
      "source": [
        "Person = {'name': 'John',\n",
        "    'age': 25,\n",
        "    'address': 'New York' }\n",
        "\n",
        "print(Person)"
      ],
      "metadata": {
        "colab": {
          "base_uri": "https://localhost:8080/"
        },
        "id": "kPfb0QzokcG6",
        "outputId": "c0564a7a-6c8e-47bb-f7ce-fb4bec8b6c56"
      },
      "execution_count": 12,
      "outputs": [
        {
          "output_type": "stream",
          "name": "stdout",
          "text": [
            "{'name': 'John', 'age': 25, 'address': 'New York'}\n"
          ]
        }
      ]
    },
    {
      "cell_type": "markdown",
      "source": [
        "Q2. Add a new key-value pair to the dictionary created in Q1 with key 'phone' and value '1234567890'.\n"
      ],
      "metadata": {
        "id": "TTjjlxOqlTVL"
      }
    },
    {
      "cell_type": "code",
      "source": [
        "Person['phone'] = '1234567890'\n",
        "print(Person)"
      ],
      "metadata": {
        "colab": {
          "base_uri": "https://localhost:8080/"
        },
        "id": "kHV5eV3RlXkK",
        "outputId": "020cfe84-a586-420b-e828-abc2b48d16ce"
      },
      "execution_count": 14,
      "outputs": [
        {
          "output_type": "stream",
          "name": "stdout",
          "text": [
            "{'name': 'John', 'age': 25, 'address': 'New York', 'phone': '1234567890'}\n"
          ]
        }
      ]
    },
    {
      "cell_type": "markdown",
      "source": [
        "## Set"
      ],
      "metadata": {
        "id": "1aUr-o8Zlo_z"
      }
    },
    {
      "cell_type": "markdown",
      "source": [
        "Q1.Create a set with values 1, 2, 3, 4, and 5."
      ],
      "metadata": {
        "id": "_aurxMDVl0x6"
      }
    },
    {
      "cell_type": "code",
      "source": [
        "set ={1,2,3,4,5}\n",
        "print(set)"
      ],
      "metadata": {
        "colab": {
          "base_uri": "https://localhost:8080/"
        },
        "id": "klWB7faPmBTi",
        "outputId": "7c2f7d71-f912-4bfd-af5e-6295528cde6d"
      },
      "execution_count": 15,
      "outputs": [
        {
          "output_type": "stream",
          "name": "stdout",
          "text": [
            "{1, 2, 3, 4, 5}\n"
          ]
        }
      ]
    },
    {
      "cell_type": "markdown",
      "source": [
        "Q2. Add the value 6 to the set created in Q1.\n"
      ],
      "metadata": {
        "id": "YWajwk4qmXTb"
      }
    },
    {
      "cell_type": "code",
      "source": [
        "set.add(6)\n",
        "print(set)"
      ],
      "metadata": {
        "colab": {
          "base_uri": "https://localhost:8080/"
        },
        "id": "0ULm9xF2mYgR",
        "outputId": "04c60017-524a-4c31-cb84-187db05602f4"
      },
      "execution_count": 16,
      "outputs": [
        {
          "output_type": "stream",
          "name": "stdout",
          "text": [
            "{1, 2, 3, 4, 5, 6}\n"
          ]
        }
      ]
    },
    {
      "cell_type": "markdown",
      "source": [
        "Q3. Remove the value 3 from the set created in Q1.\n"
      ],
      "metadata": {
        "id": "SNMrYm2QmlNC"
      }
    },
    {
      "cell_type": "code",
      "source": [
        "set.remove(3)\n",
        "print(set)"
      ],
      "metadata": {
        "colab": {
          "base_uri": "https://localhost:8080/"
        },
        "id": "TApbFWp_mmbx",
        "outputId": "3c4ba540-7e96-45ae-d59c-29561d6822cf"
      },
      "execution_count": 17,
      "outputs": [
        {
          "output_type": "stream",
          "name": "stdout",
          "text": [
            "{1, 2, 4, 5, 6}\n"
          ]
        }
      ]
    },
    {
      "cell_type": "markdown",
      "source": [
        "## Tuple"
      ],
      "metadata": {
        "id": "RZ9KvNLpmur4"
      }
    },
    {
      "cell_type": "markdown",
      "source": [
        "Q1. Create a tuple with values 1, 2, 3, and 4\n"
      ],
      "metadata": {
        "id": "ZGeDr5qQm43i"
      }
    },
    {
      "cell_type": "code",
      "source": [
        "tuple = (1, 2, 3, 4)\n",
        "print(tuple)"
      ],
      "metadata": {
        "colab": {
          "base_uri": "https://localhost:8080/"
        },
        "id": "BgxlzYBxnKZs",
        "outputId": "5d5f9869-20f7-4e2d-a686-c490e080804a"
      },
      "execution_count": 18,
      "outputs": [
        {
          "output_type": "stream",
          "name": "stdout",
          "text": [
            "(1, 2, 3, 4)\n"
          ]
        }
      ]
    },
    {
      "cell_type": "markdown",
      "source": [
        "Q2. Print the length of the tuple created in Q1\n"
      ],
      "metadata": {
        "id": "bxZskY8Ym-0i"
      }
    },
    {
      "cell_type": "code",
      "source": [
        "print(len(tuple))"
      ],
      "metadata": {
        "colab": {
          "base_uri": "https://localhost:8080/"
        },
        "id": "Qs0tel-GncLw",
        "outputId": "817dffdd-fed2-4be2-e8b8-32ab69b8ed2c"
      },
      "execution_count": 19,
      "outputs": [
        {
          "output_type": "stream",
          "name": "stdout",
          "text": [
            "4\n"
          ]
        }
      ]
    }
  ]
}