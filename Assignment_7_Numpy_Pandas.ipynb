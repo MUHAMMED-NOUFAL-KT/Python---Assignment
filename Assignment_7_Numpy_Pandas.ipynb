{
  "nbformat": 4,
  "nbformat_minor": 0,
  "metadata": {
    "colab": {
      "provenance": []
    },
    "kernelspec": {
      "name": "python3",
      "display_name": "Python 3"
    },
    "language_info": {
      "name": "python"
    }
  },
  "cells": [
    {
      "cell_type": "markdown",
      "source": [
        "Create a numpy array containing the numbers from 1 to 10, and then reshape it to a 2x5 matrix.\n"
      ],
      "metadata": {
        "id": "7NeC5foXq_Eu"
      }
    },
    {
      "cell_type": "code",
      "source": [
        "import numpy as np\n",
        "arr = np.arange(1, 11)\n",
        "matrix = arr.reshape(2, 5)\n",
        "print(matrix)"
      ],
      "metadata": {
        "colab": {
          "base_uri": "https://localhost:8080/"
        },
        "id": "nQbFDhjFrKS-",
        "outputId": "6713c01a-4268-4032-958e-e8be0248e287"
      },
      "execution_count": 2,
      "outputs": [
        {
          "output_type": "stream",
          "name": "stdout",
          "text": [
            "[[ 1  2  3  4  5]\n",
            " [ 6  7  8  9 10]]\n"
          ]
        }
      ]
    },
    {
      "cell_type": "markdown",
      "source": [
        "Create a numpy array containing the numbers from 1 to 20, and then extract the elements between the 5th and 15th index"
      ],
      "metadata": {
        "id": "_lgZX3ZZrloF"
      }
    },
    {
      "cell_type": "code",
      "source": [
        "import numpy as np\n",
        "arr = np.arange(1, 21)\n",
        "extracted = arr[5:16]\n",
        "\n",
        "print(\"Original Array:\", arr)\n",
        "print(\"Extracted Elements (5th to 15th index):\", extracted)"
      ],
      "metadata": {
        "colab": {
          "base_uri": "https://localhost:8080/"
        },
        "id": "PAmIQwcxrqqd",
        "outputId": "d06ee302-2c5f-4753-ac18-9ded5d16b30f"
      },
      "execution_count": 7,
      "outputs": [
        {
          "output_type": "stream",
          "name": "stdout",
          "text": [
            "Original Array: [ 1  2  3  4  5  6  7  8  9 10 11 12 13 14 15 16 17 18 19 20]\n",
            "Extracted Elements (5th to 15th index): [ 6  7  8  9 10 11 12 13 14 15 16]\n"
          ]
        }
      ]
    },
    {
      "cell_type": "markdown",
      "source": [
        "Create a Pandas series with the following data: {'apples': 3, 'bananas': 2, 'oranges': 1}. Then, add a new item to the series with the key 'pears' and the value 4.\n",
        "\n"
      ],
      "metadata": {
        "id": "EDUc4GUQsTBl"
      }
    },
    {
      "cell_type": "code",
      "source": [
        "import pandas as pd\n",
        "\n",
        "fruit_series = pd.Series({'apples': 3, 'bananas': 2, 'oranges': 1})\n",
        "\n",
        "fruit_series['pears'] = 4\n",
        "\n",
        "print(fruit_series)"
      ],
      "metadata": {
        "colab": {
          "base_uri": "https://localhost:8080/"
        },
        "id": "XCj2vCG3sWdN",
        "outputId": "ffae78e3-e450-47d7-84fb-a586ffabd476"
      },
      "execution_count": 8,
      "outputs": [
        {
          "output_type": "stream",
          "name": "stdout",
          "text": [
            "apples     3\n",
            "bananas    2\n",
            "oranges    1\n",
            "pears      4\n",
            "dtype: int64\n"
          ]
        }
      ]
    },
    {
      "cell_type": "markdown",
      "source": [
        "Create a dataframe with the following columns: name, age, and gender. The dataframe should have 10 rows of data.\n"
      ],
      "metadata": {
        "id": "KbHmE0x3smTt"
      }
    },
    {
      "cell_type": "code",
      "source": [
        "import pandas as pd\n",
        "import numpy as np\n",
        "\n",
        "data = {\n",
        "    'name': ['Noufal', 'Anwar', 'Suhail', 'Rajesh', 'Noufidha', 'Ali', 'Aman', 'Haris', 'Sumayya', 'Sinsiya'],\n",
        "    'age': np.random.randint(18, 65, 10),\n",
        "    'gender': np.random.choice(['Male', 'Female', 'Other'], 10)\n",
        "}\n",
        "\n",
        "df = pd.DataFrame(data)\n",
        "\n",
        "print(df)"
      ],
      "metadata": {
        "colab": {
          "base_uri": "https://localhost:8080/"
        },
        "id": "9Cb3FedptDKx",
        "outputId": "258861b0-f169-4a13-a21c-fb3625aadde5"
      },
      "execution_count": 10,
      "outputs": [
        {
          "output_type": "stream",
          "name": "stdout",
          "text": [
            "       name  age  gender\n",
            "0    Noufal   54   Other\n",
            "1     Anwar   35    Male\n",
            "2    Suhail   53  Female\n",
            "3    Rajesh   42   Other\n",
            "4  Noufidha   31   Other\n",
            "5       Ali   28  Female\n",
            "6      Aman   30   Other\n",
            "7     Haris   47   Other\n",
            "8   Sumayya   45   Other\n",
            "9   Sinsiya   46  Female\n"
          ]
        }
      ]
    },
    {
      "cell_type": "markdown",
      "source": [
        "Add a new column to the data frame created in question 1, called occupation. The values for this column should be Programmer, Manager, and Analyst, corresponding to the rows in the dataframe."
      ],
      "metadata": {
        "id": "2Uaxb8_rtff9"
      }
    },
    {
      "cell_type": "code",
      "source": [
        "df = pd.DataFrame(data)\n",
        "\n",
        "occupations = ['Programmer', 'Manager', 'Analyst', 'Programmer', 'Manager', 'Analyst', 'Programmer', 'Manager', 'Analyst', 'Programmer']\n",
        "\n",
        "df['occupation'] = occupations\n",
        "\n",
        "print(df)"
      ],
      "metadata": {
        "colab": {
          "base_uri": "https://localhost:8080/"
        },
        "id": "B6LBdQvQti1d",
        "outputId": "6b34a601-fa2b-44f4-b041-1dcca72b2aa6"
      },
      "execution_count": 11,
      "outputs": [
        {
          "output_type": "stream",
          "name": "stdout",
          "text": [
            "       name  age  gender  occupation\n",
            "0    Noufal   54   Other  Programmer\n",
            "1     Anwar   35    Male     Manager\n",
            "2    Suhail   53  Female     Analyst\n",
            "3    Rajesh   42   Other  Programmer\n",
            "4  Noufidha   31   Other     Manager\n",
            "5       Ali   28  Female     Analyst\n",
            "6      Aman   30   Other  Programmer\n",
            "7     Haris   47   Other     Manager\n",
            "8   Sumayya   45   Other     Analyst\n",
            "9   Sinsiya   46  Female  Programmer\n"
          ]
        }
      ]
    },
    {
      "cell_type": "markdown",
      "source": [
        "Select the rows of the dataframe where the age is greater than or equal to 30.\n"
      ],
      "metadata": {
        "id": "QzrgBfB3tzpV"
      }
    },
    {
      "cell_type": "code",
      "source": [
        "df = pd.DataFrame(data)\n",
        "\n",
        "older_than_30 = df[df['age'] >= 30]\n",
        "\n",
        "print(older_than_30)"
      ],
      "metadata": {
        "colab": {
          "base_uri": "https://localhost:8080/"
        },
        "id": "Ak-sKxGot9v9",
        "outputId": "5723e795-0ab5-4eb3-c398-6c49fa9d95d3"
      },
      "execution_count": 12,
      "outputs": [
        {
          "output_type": "stream",
          "name": "stdout",
          "text": [
            "       name  age  gender\n",
            "0    Noufal   54   Other\n",
            "1     Anwar   35    Male\n",
            "2    Suhail   53  Female\n",
            "3    Rajesh   42   Other\n",
            "4  Noufidha   31   Other\n",
            "6      Aman   30   Other\n",
            "7     Haris   47   Other\n",
            "8   Sumayya   45   Other\n",
            "9   Sinsiya   46  Female\n"
          ]
        }
      ]
    },
    {
      "cell_type": "markdown",
      "source": [
        "Convert this dataframe to a csv file and read that csv file, finally display the contents.\n"
      ],
      "metadata": {
        "id": "ykEUdTo-uLUt"
      }
    },
    {
      "cell_type": "code",
      "source": [
        "df = pd.DataFrame(data)\n",
        "\n",
        "import io\n",
        "\n",
        "csv_buffer = io.StringIO()\n",
        "df.to_csv(csv_buffer, index=False)\n",
        "csv_buffer.seek(0)\n",
        "\n",
        "\n",
        "df_from_csv = pd.read_csv(csv_buffer)\n",
        "\n",
        "\n",
        "print(df_from_csv)\n"
      ],
      "metadata": {
        "colab": {
          "base_uri": "https://localhost:8080/"
        },
        "id": "l16GHCUtuMIG",
        "outputId": "e5068fef-59ba-4acf-a8fc-8f1f884f7802"
      },
      "execution_count": 15,
      "outputs": [
        {
          "output_type": "stream",
          "name": "stdout",
          "text": [
            "       name  age  gender\n",
            "0    Noufal   54   Other\n",
            "1     Anwar   35    Male\n",
            "2    Suhail   53  Female\n",
            "3    Rajesh   42   Other\n",
            "4  Noufidha   31   Other\n",
            "5       Ali   28  Female\n",
            "6      Aman   30   Other\n",
            "7     Haris   47   Other\n",
            "8   Sumayya   45   Other\n",
            "9   Sinsiya   46  Female\n"
          ]
        }
      ]
    }
  ]
}