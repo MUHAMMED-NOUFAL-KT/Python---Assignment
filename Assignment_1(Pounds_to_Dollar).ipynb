{
  "nbformat": 4,
  "nbformat_minor": 0,
  "metadata": {
    "colab": {
      "provenance": [],
      "authorship_tag": "ABX9TyP8bwsLbWbMFR4acqzpncbK",
      "include_colab_link": true
    },
    "kernelspec": {
      "name": "python3",
      "display_name": "Python 3"
    },
    "language_info": {
      "name": "python"
    }
  },
  "cells": [
    {
      "cell_type": "markdown",
      "metadata": {
        "id": "view-in-github",
        "colab_type": "text"
      },
      "source": [
        "<a href=\"https://colab.research.google.com/github/MUHAMMED-NOUFAL-KT/Python---Assignment/blob/main/Assignment_1(Pounds_to_Dollar).ipynb\" target=\"_parent\"><img src=\"https://colab.research.google.com/assets/colab-badge.svg\" alt=\"Open In Colab\"/></a>"
      ]
    },
    {
      "cell_type": "markdown",
      "source": [
        "Write Python code that prints your name, student number and email address."
      ],
      "metadata": {
        "id": "le8-rOuJ6sV7"
      }
    },
    {
      "cell_type": "code",
      "source": [
        "Name = 'Noufal'\n",
        "Student_Number = '1375123'\n",
        "Email = 'noufalkt0104@gmail.com'\n",
        "\n",
        "print(\"Name:\", Name),\n",
        "print(\"Student_ID:\",Student_Number),\n",
        "print('Email:',Email)"
      ],
      "metadata": {
        "colab": {
          "base_uri": "https://localhost:8080/"
        },
        "id": "OQToiGwD6t26",
        "outputId": "484cb831-4bcb-4932-9778-f60baea83c8b"
      },
      "execution_count": null,
      "outputs": [
        {
          "output_type": "stream",
          "name": "stdout",
          "text": [
            "Name: Noufal\n",
            "Student_ID: 1375123\n",
            "Email: noufalkt0104@gmail.com\n"
          ]
        }
      ]
    },
    {
      "cell_type": "markdown",
      "source": [
        "Write Python code that prints your name, student number and email address using escape sequences."
      ],
      "metadata": {
        "id": "sK3WFjJX6-jK"
      }
    },
    {
      "cell_type": "code",
      "source": [
        "print(\"Name:\\t\\t\" + Name)\n",
        "print(\"Student Number:\\t\" + Student_Number)\n",
        "print(\"Email Address:\\t\" + Email)"
      ],
      "metadata": {
        "colab": {
          "base_uri": "https://localhost:8080/"
        },
        "id": "Pg6iqEqU7AYq",
        "outputId": "1d984bf0-a254-451f-b24d-eff217ccc06b"
      },
      "execution_count": null,
      "outputs": [
        {
          "output_type": "stream",
          "name": "stdout",
          "text": [
            "Name:\t\tNoufal\n",
            "Student Number:\t1375123\n",
            "Email Address:\tnoufalkt0104@gmail.com\n"
          ]
        }
      ]
    },
    {
      "cell_type": "markdown",
      "source": [
        "Write Python code that add, subtract, multiply and divide the two numbers. You can use the two numbers 14 and 7.\n",
        "\n",
        "\n",
        "[ ]\n"
      ],
      "metadata": {
        "id": "86Fi2qgc7IAy"
      }
    },
    {
      "cell_type": "code",
      "source": [
        "Num1 = 14\n",
        "Num2 = 7\n",
        "\n",
        "add = Num1 + Num2\n",
        "Sub = Num1-Num2\n",
        "Mul = Num1*Num2\n",
        "Div = Num1/Num2\n",
        "\n",
        "print(\"ADDITION:\",add)\n",
        "print('SUBSTRACTION:',Sub)\n",
        "print('MULTIPLICATION:',Mul)\n",
        "print('DIVISION:',Div)"
      ],
      "metadata": {
        "colab": {
          "base_uri": "https://localhost:8080/"
        },
        "id": "wciImtkn7Lsq",
        "outputId": "bf646d99-4c8b-4f70-ae45-df6654ac645c"
      },
      "execution_count": null,
      "outputs": [
        {
          "output_type": "stream",
          "name": "stdout",
          "text": [
            "ADDITION: 21\n",
            "SUBSTRACTION: 7\n",
            "MULTIPLICATION: 98\n",
            "DIVISION: 2.0\n"
          ]
        }
      ]
    },
    {
      "cell_type": "markdown",
      "source": [
        "Write Python code that displays the numbers from 1 to 5 as steps."
      ],
      "metadata": {
        "id": "ewA2A8os7Tnq"
      }
    },
    {
      "cell_type": "code",
      "source": [
        "for i in range(1,6):\n",
        "  print(\"step\"+str(i)+\":\"+str(i))"
      ],
      "metadata": {
        "colab": {
          "base_uri": "https://localhost:8080/"
        },
        "id": "nH6zkE-H7XRd",
        "outputId": "81ed24cb-0d22-4129-dbb6-bba755fa1298"
      },
      "execution_count": null,
      "outputs": [
        {
          "output_type": "stream",
          "name": "stdout",
          "text": [
            "step1:1\n",
            "step2:2\n",
            "step3:3\n",
            "step4:4\n",
            "step5:5\n"
          ]
        }
      ]
    },
    {
      "cell_type": "markdown",
      "source": [
        "Write Python code that outputs the following sentence (including the quotation marks and line break) to the screen: An example runs of the program:\n",
        "\"SDK\" stands for \"Software Development Kit\", whereas \"IDE\" stands for \"Integrated Development Environment\".\n",
        "\n"
      ],
      "metadata": {
        "id": "l-R96f8t7bvq"
      }
    },
    {
      "cell_type": "code",
      "source": [
        "print(\"\\\"SDK\\\" stands for \\\"Software Development Kit\\\", whereas\\n\\\"IDE\\\" stands for \\\"Integrated Development Environment\\\"\")\n"
      ],
      "metadata": {
        "colab": {
          "base_uri": "https://localhost:8080/"
        },
        "id": "jJkzaZME7g4K",
        "outputId": "ecbf5ab2-c36e-4f93-df7e-922c2093af3a"
      },
      "execution_count": null,
      "outputs": [
        {
          "output_type": "stream",
          "name": "stdout",
          "text": [
            "\"SDK\" stands for \"Software Development Kit\", whereas\n",
            "\"IDE\" stands for \"Integrated Development Environment\"\n"
          ]
        }
      ]
    },
    {
      "cell_type": "markdown",
      "source": [
        "Practice and check the output print(\"python is an \"awesome\" language.\") print(\"python\\n\\t2023\") print('I'm from Entri.\\b') print(\"\\65\") print(\"\\x65\") print(\"Entri\", \"2023\", sep=\"\\n\") print(\"Entri\", \"2023\", sep=\"\\b\") print(\"Entri\", \"2023\", sep=\"*\", end=\"\\b\\b\\b\\b\")"
      ],
      "metadata": {
        "id": "R3qThWxp7n6i"
      }
    },
    {
      "cell_type": "code",
      "source": [
        "print(\"python is an \\\"awesome\\\" language.\")\n",
        "print(\"python\\n\\t2023\")\n",
        "print('I\\'m from Entri.\\b')\n",
        "print(\"\\65\")\n",
        "print(\"\\x65\")\n",
        "print(\"Entri\", \"2023\", sep=\"\\n\")\n",
        "print(\"Entri\", \"2023\", sep=\"\\b\")\n",
        "print(\"Entri\", \"2023\", sep=\"*\", end=\"\\b\\b\\b\\b\")\n"
      ],
      "metadata": {
        "colab": {
          "base_uri": "https://localhost:8080/"
        },
        "id": "dQ6l3cPU7rFC",
        "outputId": "3b7c3e60-54b5-49ca-8527-4c52ba7f60ba"
      },
      "execution_count": null,
      "outputs": [
        {
          "output_type": "stream",
          "name": "stdout",
          "text": [
            "python is an \"awesome\" language.\n",
            "python\n",
            "\t2023\n",
            "I'm from Entri.\b\n",
            "5\n",
            "e\n",
            "Entri\n",
            "2023\n",
            "Entri\b2023\n",
            "Entri*2023\b\b\b\b"
          ]
        }
      ]
    },
    {
      "cell_type": "markdown",
      "source": [
        "Define the variables below. Print the types of each variable. What is the sum of your variables? num=23 textnum=\"57\" decimal=98.3"
      ],
      "metadata": {
        "id": "DsO_7R267xv8"
      }
    },
    {
      "cell_type": "code",
      "source": [
        "num = 23\n",
        "textnum = \"57\"\n",
        "decimal = 98.3\n",
        "\n",
        "print(\"Num type:\", type(num))\n",
        "print(\"Textnum type:\", type(textnum))\n",
        "print(\"Decimal type:\", type(decimal))\n",
        "\n",
        "sum = num + int(textnum) + decimal\n",
        "\n",
        "print(\"Sum:\", sum)\n",
        "\n",
        "print(\"Sum _Data type:\", type(sum))"
      ],
      "metadata": {
        "colab": {
          "base_uri": "https://localhost:8080/"
        },
        "id": "RicpkUNY7yti",
        "outputId": "dd6453ed-c560-483d-9303-0a3773e91b9a"
      },
      "execution_count": null,
      "outputs": [
        {
          "output_type": "stream",
          "name": "stdout",
          "text": [
            "Num type: <class 'int'>\n",
            "Textnum type: <class 'str'>\n",
            "Decimal type: <class 'float'>\n",
            "Sum: 178.3\n",
            "Sum _Data type: <class 'float'>\n"
          ]
        }
      ]
    },
    {
      "cell_type": "markdown",
      "source": [
        "calculate the number of minutes in a year using variables for each unit of time. print a statement that describes what your code does also. Create three variables to store no of days in a year, minute in a hour, hours in a day, then calculate the total minutes in a year and print the values"
      ],
      "metadata": {
        "id": "oduwcA5X742S"
      }
    },
    {
      "cell_type": "code",
      "source": [
        "days_in_year = 365\n",
        "hours_in_day = 24\n",
        "minutes_in_hour = 60\n",
        "\n",
        "print(\"Total days in a year:\", days_in_year)\n",
        "print(\"Total hours in a day:\", hours_in_day)\n",
        "print(\"Total minutes in an hour:\", minutes_in_hour)\n",
        "\n",
        "total_minutes_in_year = days_in_year * hours_in_day * minutes_in_hour\n",
        "\n",
        "print('total_min_in_year:',total_minutes_in_year)"
      ],
      "metadata": {
        "colab": {
          "base_uri": "https://localhost:8080/"
        },
        "id": "fKCgnnTw787i",
        "outputId": "f7a0b132-710b-4de4-d3d3-367a37d4dc19"
      },
      "execution_count": null,
      "outputs": [
        {
          "output_type": "stream",
          "name": "stdout",
          "text": [
            "Total days in a year: 365\n",
            "Total hours in a day: 24\n",
            "Total minutes in an hour: 60\n",
            "total_min_in_year: 525600\n"
          ]
        }
      ]
    },
    {
      "cell_type": "markdown",
      "source": [
        "Write Python code that asks the user to enter his/her name and then output/prints his/her name with a greeting."
      ],
      "metadata": {
        "id": "nfzwIWhW8Biy"
      }
    },
    {
      "cell_type": "code",
      "source": [
        "name = input(\"your name: \")\n",
        "print(f\"Hi {name}, welcome to Python programming :)\")"
      ],
      "metadata": {
        "colab": {
          "base_uri": "https://localhost:8080/"
        },
        "id": "FmrljINI8GF6",
        "outputId": "257d6d96-80fe-4292-dc7d-e278d7138892"
      },
      "execution_count": null,
      "outputs": [
        {
          "output_type": "stream",
          "name": "stdout",
          "text": [
            "your name: Noufal\n",
            "Hi Noufal, welcome to Python programming :)\n"
          ]
        }
      ]
    },
    {
      "cell_type": "markdown",
      "source": [
        "Write a program that asks the user to enter an amount in pounds (£) and the program calculates and converts an amount in dollar ($)"
      ],
      "metadata": {
        "id": "Y3Y8nEr38TMz"
      }
    },
    {
      "cell_type": "code",
      "source": [
        "pounds = float(input(\"pounds Value: \"))\n",
        "\n",
        "conversion_rate = 1.25\n",
        "\n",
        "Dollar = pounds * conversion_rate\n",
        "\n",
        "print(\"Dollar_Value:\",Dollar)"
      ],
      "metadata": {
        "colab": {
          "base_uri": "https://localhost:8080/"
        },
        "id": "woG06Cay8Usy",
        "outputId": "9a6ba6b4-cd56-459e-c120-6ec87dea0d84"
      },
      "execution_count": null,
      "outputs": [
        {
          "output_type": "stream",
          "name": "stdout",
          "text": [
            "pounds Value: 1200\n",
            "Dollar_Value: 1500.0\n"
          ]
        }
      ]
    }
  ]
}