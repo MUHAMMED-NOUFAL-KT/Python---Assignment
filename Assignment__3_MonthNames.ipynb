{
  "nbformat": 4,
  "nbformat_minor": 0,
  "metadata": {
    "colab": {
      "provenance": []
    },
    "kernelspec": {
      "name": "python3",
      "display_name": "Python 3"
    },
    "language_info": {
      "name": "python"
    }
  },
  "cells": [
    {
      "cell_type": "markdown",
      "source": [],
      "metadata": {
        "id": "C-BU6dXSOM2k"
      }
    },
    {
      "cell_type": "code",
      "source": [
        "months = [\"January\",\n",
        "\"February\",\n",
        "\"March\",\n",
        "\"April\",\n",
        "\"May\",\n",
        "\"June\",\n",
        "\"July\",\n",
        "\"August\",\n",
        "\"September\",\n",
        "\"October\",\n",
        "\"November\",\n",
        "\"December\"]\n",
        "month_number = int(input(\"Enter the month (1-12): \"))\n",
        "if 1 <= month_number <= 12:\n",
        "  print(f\"Month {month_number} is {months[month_number - 1]}.\")\n",
        "else:\n",
        "    print(\"Invalid month number. Please enter a number between 1 and 12.\")"
      ],
      "metadata": {
        "colab": {
          "base_uri": "https://localhost:8080/"
        },
        "id": "xyZ2nuRwOKbD",
        "outputId": "1ffb22d8-4b81-48cf-8306-f366ba52e33c"
      },
      "execution_count": 68,
      "outputs": [
        {
          "output_type": "stream",
          "name": "stdout",
          "text": [
            "Enter the month (1-12): 10\n",
            "Month 10 is October.\n"
          ]
        }
      ]
    },
    {
      "cell_type": "markdown",
      "source": [
        "A certain cinema currently sells tickets for a full price of 6 pounds, but always sells tickets for half price to people who are less than 16 years old, and for a third of the price for people who are 60 years old or more.\n",
        "An example run of the program (numbers in bold are typed in by the user)\n",
        "Enter your age: 63\n",
        "Your ticket costs £2.00\n"
      ],
      "metadata": {
        "id": "Ik0kq28SCFxb"
      }
    },
    {
      "cell_type": "code",
      "source": [
        "def calculate_ticket_price(age):\n",
        "  if age < 16:\n",
        "    return 6/2\n",
        "  elif age >= 60:\n",
        "    return 6/3\n",
        "  else:\n",
        "    return 6\n",
        "if __name__ == \"__main__\":\n",
        "  try:\n",
        "    age = int(input(\"your age: \"))\n",
        "    ticket_price = calculate_ticket_price(age)\n",
        "    print(f\"Your ticket costs £{ticket_price:.2f}\")\n",
        "  except ValueError:\n",
        "    print(\"Invalid input\")"
      ],
      "metadata": {
        "colab": {
          "base_uri": "https://localhost:8080/"
        },
        "id": "MEQRi4CLD_SU",
        "outputId": "085a09b8-7857-4ba1-ec6b-1a9d6017bb19"
      },
      "execution_count": 38,
      "outputs": [
        {
          "output_type": "stream",
          "name": "stdout",
          "text": [
            "your age: 63\n",
            "Your ticket costs £2.00\n"
          ]
        }
      ]
    },
    {
      "cell_type": "markdown",
      "source": [
        "Write a program to calculate your BMI and give weight status. Body Mass Index (BMI) is an internationally used measurement to check if you are a healthy weight for your height.The metric BMI formula accepts weight in kilograms and height in meters:\n",
        "\n",
        "BMI= weight(kg)/height2(m2)"
      ],
      "metadata": {
        "id": "xUMeRX7dGYEk"
      }
    },
    {
      "cell_type": "code",
      "source": [
        "def calculate_bmi(weight, height):\n",
        "  return weight / (height * height)\n",
        "\n",
        "def get_weight_status(bmi):\n",
        "      if bmi < 18.5:\n",
        "        return \"Underweight\"\n",
        "      elif bmi < 25:\n",
        "        return \"Normal\"\n",
        "      elif bmi < 30:\n",
        "        return \"Overweight\"\n",
        "      else:\n",
        "        return \"Obese\"\n",
        "weight = float(input(\"your weight in (kg): \"))\n",
        "height = float(input(\"your height in (m): \"))\n",
        "bmi = calculate_bmi(weight, height)\n",
        "weight_status = get_weight_status(bmi)\n",
        "print(f\"Your BMI is: {bmi:.2f}\")\n",
        "print(f\"You are in the “{weight_status}” range.\")"
      ],
      "metadata": {
        "colab": {
          "base_uri": "https://localhost:8080/"
        },
        "id": "SAOWYR-qGZbk",
        "outputId": "f317f623-7cf0-4adc-e58a-710bf7c20414"
      },
      "execution_count": 43,
      "outputs": [
        {
          "output_type": "stream",
          "name": "stdout",
          "text": [
            "your weight in (kg): 80\n",
            "your height in (m): 1.65\n",
            "Your BMI is: 29.38\n",
            "You are in the “Overweight” range.\n"
          ]
        }
      ]
    },
    {
      "cell_type": "markdown",
      "source": [
        "Write a Python program to receive 3 numbers from the user and print the greatest among them."
      ],
      "metadata": {
        "id": "g6DxABYjIObc"
      }
    },
    {
      "cell_type": "code",
      "source": [
        "def find_greatest(num1, num2, num3):\n",
        "  if num1 >= num2 and num1 >= num3:\n",
        "    return num1\n",
        "  elif num2 >= num1 and num2 >= num3:\n",
        "    return num2\n",
        "  else:\n",
        "    return num3\n",
        "num1 = float(input(\"first number: \"))\n",
        "num2 = float(input(\"second number: \"))\n",
        "num3 = float(input(\"third number: \"))\n",
        "greatest_number = find_greatest(num1, num2, num3)\n",
        "print(f\"greatest number: {greatest_number}\")\n",
        ""
      ],
      "metadata": {
        "colab": {
          "base_uri": "https://localhost:8080/"
        },
        "id": "m4fKdK6AIO20",
        "outputId": "0ec71bb1-7faa-4add-cf35-61463d99e9d9"
      },
      "execution_count": 46,
      "outputs": [
        {
          "output_type": "stream",
          "name": "stdout",
          "text": [
            "first number: 65\n",
            "second number: 78\n",
            "third number: 55\n",
            "greatest number: 78.0\n"
          ]
        }
      ]
    },
    {
      "cell_type": "markdown",
      "source": [
        "Find the factorial of a given number using loops(note the number is received from the user)\n"
      ],
      "metadata": {
        "id": "f3gdhp6wI1xk"
      }
    },
    {
      "cell_type": "code",
      "source": [
        "def factorial(n):\n",
        "  if n == 0:\n",
        "    return 1\n",
        "  else:\n",
        "    factorial = 1\n",
        "    for i in range(1, n + 1):\n",
        "      factorial *= i\n",
        "    return factorial\n",
        "num = int(input(\"Enter a integer: \"))\n",
        "result = factorial(num)\n",
        "print(\"The factorial of\", num, \"is\", result)"
      ],
      "metadata": {
        "colab": {
          "base_uri": "https://localhost:8080/"
        },
        "id": "7lcZ5de0I_5M",
        "outputId": "1cc15d05-cf72-431c-bedb-b4e99ea58e08"
      },
      "execution_count": 47,
      "outputs": [
        {
          "output_type": "stream",
          "name": "stdout",
          "text": [
            "Enter a integer: 5\n",
            "The factorial of 5 is 120\n"
          ]
        }
      ]
    },
    {
      "cell_type": "markdown",
      "source": [
        "Reverse a number using while loop"
      ],
      "metadata": {
        "id": "UFGBqL36J0mP"
      }
    },
    {
      "cell_type": "code",
      "source": [
        "def reverse_number(num):\n",
        "  reversed_num = 0\n",
        "  while num > 0:\n",
        "    digit = num % 10\n",
        "    reversed_num = reversed_num * 10 + digit\n",
        "    num //= 10\n",
        "  return reversed_num\n",
        "  num = int(input(\"number: \"))\n",
        "  reversed_num = reverse_number(num)\n",
        "  print(\"The reversed number is:\", reversed_num)"
      ],
      "metadata": {
        "id": "OG5jPZQHJ1WD"
      },
      "execution_count": 56,
      "outputs": []
    },
    {
      "cell_type": "markdown",
      "source": [
        "Finding the multiples of a number using loop\n"
      ],
      "metadata": {
        "id": "HeEvg8i8LGGt"
      }
    },
    {
      "cell_type": "code",
      "source": [
        "def find_multiples(number, limit):\n",
        "  multiples = []\n",
        "  for i in range(1, limit + 1):\n",
        "    multiple = number * i\n",
        "    if multiple <= limit:\n",
        "      multiples.append(multiple)\n",
        "  return multiples\n",
        "number = int(input(\"Enter a number: \"))\n",
        "limit = int(input(\"Enter the limit: \"))\n",
        "multiples_list = find_multiples(number, limit)\n",
        "print(\"Multiples of\", number, \"within the limit\", limit, \"are:\", multiples_list)"
      ],
      "metadata": {
        "colab": {
          "base_uri": "https://localhost:8080/"
        },
        "id": "8y-ZJp9GLILF",
        "outputId": "b383e945-55cb-422b-8cfc-53f083a3572f"
      },
      "execution_count": 62,
      "outputs": [
        {
          "output_type": "stream",
          "name": "stdout",
          "text": [
            "Enter a number: 10\n",
            "Enter the limit: 5\n",
            "Multiples of 10 within the limit 5 are: []\n"
          ]
        }
      ]
    },
    {
      "cell_type": "markdown",
      "source": [
        "Write a program to print the inputted value as it is and break the loop if the value is 'done'.\n"
      ],
      "metadata": {
        "id": "97N2GHKPMzU0"
      }
    },
    {
      "cell_type": "code",
      "source": [
        "while True:\n",
        "  user_input = input(\":\")\n",
        "  if user_input == 'done':\n",
        "    print(\"Done\")\n",
        "    break\n",
        "  else:\n",
        "    print(user_input)\n",
        ""
      ],
      "metadata": {
        "colab": {
          "base_uri": "https://localhost:8080/"
        },
        "id": "f4Z9yoMkMab0",
        "outputId": "c26cacfa-62a6-417a-e6df-a99b2cb241c3"
      },
      "execution_count": 63,
      "outputs": [
        {
          "output_type": "stream",
          "name": "stdout",
          "text": [
            ":25\n",
            "25\n",
            ":5\n",
            "5\n",
            ":35\n",
            "35\n",
            ":2.5\n",
            "2.5\n",
            ":hi\n",
            "hi\n",
            ":finished\n",
            "finished\n",
            ":done\n",
            "Done\n"
          ]
        }
      ]
    },
    {
      "cell_type": "markdown",
      "source": [
        "Write a program that prints the numbers from 1 to 10. But for multiples of three print \"Fizz\" instead of the number and for the multiple of five print \"Buzz\". For numbers which are multiples of both three and five print \"FizzBuzz\"\n",
        "\n",
        "\n"
      ],
      "metadata": {
        "id": "nOGe9oCEM88j"
      }
    },
    {
      "cell_type": "code",
      "source": [
        "for i in range(1, 10):\n",
        "  if i % 3 == 0 and i % 5 == 0:\n",
        "    print(\"FizzBuzz\")\n",
        "  elif i % 3 == 0:\n",
        "    print(\"Fizz\")\n",
        "  elif i % 5 == 0:\n",
        "    print(\"Buzz\")\n",
        "  else:\n",
        "    print(i)"
      ],
      "metadata": {
        "colab": {
          "base_uri": "https://localhost:8080/"
        },
        "id": "zIHIVdq_NHfc",
        "outputId": "dec426e8-c39d-4482-b7a7-72ce3dacb0a4"
      },
      "execution_count": 64,
      "outputs": [
        {
          "output_type": "stream",
          "name": "stdout",
          "text": [
            "1\n",
            "2\n",
            "Fizz\n",
            "4\n",
            "Buzz\n",
            "Fizz\n",
            "7\n",
            "8\n",
            "Fizz\n"
          ]
        }
      ]
    },
    {
      "cell_type": "markdown",
      "source": [
        "Write a program to print the following pattern:\n",
        "\n",
        "5 4 3 2 1\n",
        "4 3 2 1\n",
        "3 2 1\n",
        "2 1\n",
        "1\n",
        "\n"
      ],
      "metadata": {
        "id": "jyX2jxXCNrq7"
      }
    },
    {
      "cell_type": "code",
      "source": [
        "for i in range(5, 0, -1):\n",
        "  for j in range(i, 0, -1):\n",
        "    print(j, end=\" \")\n",
        "  print()"
      ],
      "metadata": {
        "colab": {
          "base_uri": "https://localhost:8080/"
        },
        "id": "7l-2eRk7OEcT",
        "outputId": "07a8fa24-63ba-45dc-a6d1-8194724dbfa9"
      },
      "execution_count": 66,
      "outputs": [
        {
          "output_type": "stream",
          "name": "stdout",
          "text": [
            "5 4 3 2 1 \n",
            "4 3 2 1 \n",
            "3 2 1 \n",
            "2 1 \n",
            "1 \n"
          ]
        }
      ]
    }
  ]
}